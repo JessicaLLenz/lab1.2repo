{
 "cells": [
  {
   "cell_type": "code",
   "execution_count": 12,
   "id": "44b5244c-91d6-4a67-8f05-a0ac64187bb5",
   "metadata": {},
   "outputs": [],
   "source": [
    "import polars as pl\n"
   ]
  },
  {
   "cell_type": "code",
   "execution_count": 13,
   "id": "632000d5-0339-4fa3-af17-49ec663fb976",
   "metadata": {},
   "outputs": [
    {
     "data": {
      "text/html": [
       "<div><style>\n",
       ".dataframe > thead > tr,\n",
       ".dataframe > tbody > tr {\n",
       "  text-align: right;\n",
       "  white-space: pre-wrap;\n",
       "}\n",
       "</style>\n",
       "<small>shape: (158, 4)</small><table border=\"1\" class=\"dataframe\"><thead><tr><th>yearID</th><th>lgID</th><th>league_wide_ERA</th><th>DH Rule</th></tr><tr><td>i64</td><td>str</td><td>f64</td><td>str</td></tr></thead><tbody><tr><td>2016</td><td>&quot;AL&quot;</td><td>4.521031</td><td>&quot;DH&quot;</td></tr><tr><td>1993</td><td>&quot;NL&quot;</td><td>4.521149</td><td>&quot;DH&quot;</td></tr><tr><td>1949</td><td>&quot;AL&quot;</td><td>4.751302</td><td>&quot;NO DH&quot;</td></tr><tr><td>1969</td><td>&quot;AL&quot;</td><td>4.092935</td><td>&quot;NO DH&quot;</td></tr><tr><td>2010</td><td>&quot;AL&quot;</td><td>4.463719</td><td>&quot;DH&quot;</td></tr><tr><td>&hellip;</td><td>&hellip;</td><td>&hellip;</td><td>&hellip;</td></tr><tr><td>1973</td><td>&quot;AL&quot;</td><td>4.301169</td><td>&quot;DH&quot;</td></tr><tr><td>2015</td><td>&quot;AL&quot;</td><td>4.323618</td><td>&quot;DH&quot;</td></tr><tr><td>2001</td><td>&quot;NL&quot;</td><td>4.753073</td><td>&quot;DH&quot;</td></tr><tr><td>2020</td><td>&quot;AL&quot;</td><td>4.811595</td><td>&quot;DH&quot;</td></tr><tr><td>1983</td><td>&quot;NL&quot;</td><td>4.119867</td><td>&quot;DH&quot;</td></tr></tbody></table></div>"
      ],
      "text/plain": [
       "shape: (158, 4)\n",
       "┌────────┬──────┬─────────────────┬─────────┐\n",
       "│ yearID ┆ lgID ┆ league_wide_ERA ┆ DH Rule │\n",
       "│ ---    ┆ ---  ┆ ---             ┆ ---     │\n",
       "│ i64    ┆ str  ┆ f64             ┆ str     │\n",
       "╞════════╪══════╪═════════════════╪═════════╡\n",
       "│ 2016   ┆ AL   ┆ 4.521031        ┆ DH      │\n",
       "│ 1993   ┆ NL   ┆ 4.521149        ┆ DH      │\n",
       "│ 1949   ┆ AL   ┆ 4.751302        ┆ NO DH   │\n",
       "│ 1969   ┆ AL   ┆ 4.092935        ┆ NO DH   │\n",
       "│ 2010   ┆ AL   ┆ 4.463719        ┆ DH      │\n",
       "│ …      ┆ …    ┆ …               ┆ …       │\n",
       "│ 1973   ┆ AL   ┆ 4.301169        ┆ DH      │\n",
       "│ 2015   ┆ AL   ┆ 4.323618        ┆ DH      │\n",
       "│ 2001   ┆ NL   ┆ 4.753073        ┆ DH      │\n",
       "│ 2020   ┆ AL   ┆ 4.811595        ┆ DH      │\n",
       "│ 1983   ┆ NL   ┆ 4.119867        ┆ DH      │\n",
       "└────────┴──────┴─────────────────┴─────────┘"
      ]
     },
     "execution_count": 13,
     "metadata": {},
     "output_type": "execute_result"
    }
   ],
   "source": [
    "(pitching :=\n",
    " pl.read_csv(\"./data/league_era.csv\")\n",
    ")\n"
   ]
  },
  {
   "cell_type": "code",
   "execution_count": 14,
   "id": "70034633-1dc4-4e44-954b-f383938d34f0",
   "metadata": {},
   "outputs": [],
   "source": [
    "from plotnine import ggplot, geom_line, aes\n",
    "\n",
    "era_year = pitching.pivot(\n",
    "    values = 'league_wide_ERA',\n",
    "    index = 'yearID',\n",
    "    on = 'lgID'\n",
    ")\n",
    "era_year = era_year.with_columns(\n",
    "    (pl.col('AL') - pl.col('NL')).alias('Difference')\n",
    ")\n",
    "Era = pitching.join(era_year.select(['yearID', 'Difference']), on ='yearID', how='left')\n",
    "                                          "
   ]
  },
  {
   "cell_type": "code",
   "execution_count": 15,
   "id": "65a0b48a-ae31-4fec-aa77-f46b7cb8a219",
   "metadata": {},
   "outputs": [],
   "source": [
    "from plotnine import ggplot, geom_line, geom_vline, annotate, theme_classic, theme, ggtitle, element_rect, labs, scale_color_manual, geom_hline, aes\n",
    "Era = Era.with_columns(\n",
    "    pl.lit('AL - NL').alias('Diff_Label')\n",
    ")\n",
    "\n",
    "\n",
    "Era_plot=(ggplot(data = Era)\n",
    " + geom_line(aes(x = \"yearID\",\n",
    "                 y = \"league_wide_ERA\",\n",
    "                 color = \"lgID\"\n",
    "                )\n",
    "            )\n",
    " + geom_line(aes(y = 'yearID',\n",
    "                 x = 'Difference',\n",
    "                 color = 'Diff_Label'\n",
    "                ), size = 1)\n",
    " + geom_vline(xintercept = 1973, linetype = 'dashed', color = 'orange')\n",
    " + geom_vline(xintercept = 2022, linetype = 'dashed', color = 'orange')\n",
    " + annotate('text',\n",
    "                x= 1950,\n",
    "                y= 1.5,\n",
    "                size = 8,\n",
    "                label = 'DH was indroduced to the AL in 1973',\n",
    "                ha = 'left')\n",
    " + annotate('text',\n",
    "                x= 2022,\n",
    "                y= 1.5,\n",
    "                size = 8,\n",
    "                label = 'DH was indroduced to the AL in 1973',\n",
    "                ha = 'right')\n",
    " + theme_classic()\n",
    " + theme(\n",
    "         panel_border = element_rect(color = 'black', fill = None, size = 1.5)\n",
    " )\n",
    " + ggtitle(\"League Era vs. YearID\")\n",
    " + labs(\n",
    "     x = \"Year\",\n",
    "     y = \"League ERA\"\n",
    " )\n",
    " + geom_hline(yintercept = 0, linetype = 'dashed', color = 'grey')\n",
    " + scale_color_manual(name = \"League\",\n",
    "                      values = {'AL' : 'blue',\n",
    "                                'NL' : 'green',\n",
    "                                'AL - NL' : 'red'}\n",
    "                     )\n",
    " )\n",
    "\n"
   ]
  },
  {
   "cell_type": "code",
   "execution_count": 38,
   "id": "6a0107d9-d8ea-40ae-b771-c501c229dc56",
   "metadata": {},
   "outputs": [
    {
     "name": "stdout",
     "output_type": "stream",
     "text": [
      "<class 'plotnine.ggplot.ggplot'>\n"
     ]
    },
    {
     "ename": "TypeError",
     "evalue": "ggplot.save() missing 1 required positional argument: 'self'",
     "output_type": "error",
     "traceback": [
      "\u001b[31m---------------------------------------------------------------------------\u001b[39m",
      "\u001b[31mTypeError\u001b[39m                                 Traceback (most recent call last)",
      "\u001b[36mCell\u001b[39m\u001b[36m \u001b[39m\u001b[32mIn[38]\u001b[39m\u001b[32m, line 6\u001b[39m\n\u001b[32m      2\u001b[39m \u001b[38;5;28;01mfrom\u001b[39;00m\u001b[38;5;250m \u001b[39m\u001b[34;01mplotnine\u001b[39;00m\u001b[38;5;250m \u001b[39m\u001b[38;5;28;01mimport\u001b[39;00m ggsave\n\u001b[32m      4\u001b[39m \u001b[38;5;28mprint\u001b[39m(\u001b[38;5;28mtype\u001b[39m(Era_plot))\n\u001b[32m----> \u001b[39m\u001b[32m6\u001b[39m \u001b[43mggsave\u001b[49m\u001b[43m(\u001b[49m\u001b[43m \u001b[49m\u001b[43mfilename\u001b[49m\u001b[43m \u001b[49m\u001b[43m=\u001b[49m\u001b[43m \u001b[49m\u001b[33;43m\"\u001b[39;49m\u001b[33;43mimage/Era_plot.png\u001b[39;49m\u001b[33;43m\"\u001b[39;49m\u001b[43m,\u001b[49m\u001b[43m \u001b[49m\u001b[43mplot\u001b[49m\u001b[43m \u001b[49m\u001b[43m=\u001b[49m\u001b[43m \u001b[49m\u001b[43mEra_plot\u001b[49m\u001b[43m,\u001b[49m\u001b[43m \u001b[49m\u001b[43mdpi\u001b[49m\u001b[43m \u001b[49m\u001b[43m=\u001b[49m\u001b[43m \u001b[49m\u001b[32;43m300\u001b[39;49m\u001b[43m,\u001b[49m\u001b[43m \u001b[49m\u001b[43mwidth\u001b[49m\u001b[43m \u001b[49m\u001b[43m=\u001b[49m\u001b[43m \u001b[49m\u001b[32;43m10\u001b[39;49m\u001b[43m,\u001b[49m\u001b[43m \u001b[49m\u001b[43mheight\u001b[49m\u001b[43m \u001b[49m\u001b[43m=\u001b[49m\u001b[43m \u001b[49m\u001b[32;43m6\u001b[39;49m\u001b[43m)\u001b[49m\n\u001b[32m      8\u001b[39m \u001b[38;5;66;03m#Era_plot.save(\"image/Era_plot.png\", dpi = 300, width = 10, height = 6)\u001b[39;00m\n",
      "\u001b[31mTypeError\u001b[39m: ggplot.save() missing 1 required positional argument: 'self'"
     ]
    }
   ],
   "source": [
    "#from matplotlib import pyplot as plt\n",
    "from plotnine import ggsave\n",
    "\n",
    "print(type(Era_plot))\n",
    "\n",
    "ggsave( filename = \"image/Era_plot.png\", plot = Era_plot, dpi = 300, width = 10, height = 6)\n",
    "\n",
    "#Era_plot.save(\"image/Era_plot.png\", dpi = 300, width = 10, height = 6)"
   ]
  },
  {
   "cell_type": "code",
   "execution_count": 16,
   "id": "e9b19e6a-943f-4044-a654-2b8d3dd463a0",
   "metadata": {},
   "outputs": [
    {
     "data": {
      "text/html": [
       "<div><style>\n",
       ".dataframe > thead > tr,\n",
       ".dataframe > tbody > tr {\n",
       "  text-align: right;\n",
       "  white-space: pre-wrap;\n",
       "}\n",
       "</style>\n",
       "<small>shape: (158, 4)</small><table border=\"1\" class=\"dataframe\"><thead><tr><th>yearID</th><th>lgID</th><th>league_wide_SLG</th><th>DH Rule</th></tr><tr><td>i64</td><td>str</td><td>f64</td><td>str</td></tr></thead><tbody><tr><td>1979</td><td>&quot;AL&quot;</td><td>0.408388</td><td>&quot;DH&quot;</td></tr><tr><td>1972</td><td>&quot;AL&quot;</td><td>0.343013</td><td>&quot;NO DH&quot;</td></tr><tr><td>1958</td><td>&quot;NL&quot;</td><td>0.405144</td><td>&quot;NO DH&quot;</td></tr><tr><td>2017</td><td>&quot;AL&quot;</td><td>0.428764</td><td>&quot;DH&quot;</td></tr><tr><td>2012</td><td>&quot;AL&quot;</td><td>0.410992</td><td>&quot;DH&quot;</td></tr><tr><td>&hellip;</td><td>&hellip;</td><td>&hellip;</td><td>&hellip;</td></tr><tr><td>2008</td><td>&quot;NL&quot;</td><td>0.41289</td><td>&quot;DH&quot;</td></tr><tr><td>1987</td><td>&quot;AL&quot;</td><td>0.425487</td><td>&quot;DH&quot;</td></tr><tr><td>1971</td><td>&quot;NL&quot;</td><td>0.366387</td><td>&quot;NO DH&quot;</td></tr><tr><td>2001</td><td>&quot;AL&quot;</td><td>0.428111</td><td>&quot;DH&quot;</td></tr><tr><td>2000</td><td>&quot;NL&quot;</td><td>0.43164</td><td>&quot;DH&quot;</td></tr></tbody></table></div>"
      ],
      "text/plain": [
       "shape: (158, 4)\n",
       "┌────────┬──────┬─────────────────┬─────────┐\n",
       "│ yearID ┆ lgID ┆ league_wide_SLG ┆ DH Rule │\n",
       "│ ---    ┆ ---  ┆ ---             ┆ ---     │\n",
       "│ i64    ┆ str  ┆ f64             ┆ str     │\n",
       "╞════════╪══════╪═════════════════╪═════════╡\n",
       "│ 1979   ┆ AL   ┆ 0.408388        ┆ DH      │\n",
       "│ 1972   ┆ AL   ┆ 0.343013        ┆ NO DH   │\n",
       "│ 1958   ┆ NL   ┆ 0.405144        ┆ NO DH   │\n",
       "│ 2017   ┆ AL   ┆ 0.428764        ┆ DH      │\n",
       "│ 2012   ┆ AL   ┆ 0.410992        ┆ DH      │\n",
       "│ …      ┆ …    ┆ …               ┆ …       │\n",
       "│ 2008   ┆ NL   ┆ 0.41289         ┆ DH      │\n",
       "│ 1987   ┆ AL   ┆ 0.425487        ┆ DH      │\n",
       "│ 1971   ┆ NL   ┆ 0.366387        ┆ NO DH   │\n",
       "│ 2001   ┆ AL   ┆ 0.428111        ┆ DH      │\n",
       "│ 2000   ┆ NL   ┆ 0.43164         ┆ DH      │\n",
       "└────────┴──────┴─────────────────┴─────────┘"
      ]
     },
     "execution_count": 16,
     "metadata": {},
     "output_type": "execute_result"
    }
   ],
   "source": [
    "(batting :=\n",
    " pl.read_csv(\"./data/league_slg.csv\")\n",
    ")"
   ]
  },
  {
   "cell_type": "code",
   "execution_count": 26,
   "id": "c855fe34-b3be-4de6-a271-20f5f07c4677",
   "metadata": {},
   "outputs": [],
   "source": [
    "from plotnine import ggplot, geom_line, aes, geom_vline, annotate, theme_classic, theme, ggtitle, element_rect, scale_color_manual, geom_hline\n",
    "\n",
    "SLG_year = batting.pivot(\n",
    "    values = 'league_wide_SLG',\n",
    "    index = 'yearID',\n",
    "    on = 'lgID'\n",
    ")\n",
    "SLG_year = SLG_year.with_columns(\n",
    "    (pl.col('AL') - pl.col('NL')).alias('SLG_Difference')\n",
    ")\n",
    "SLG_year = batting.join(SLG_year.select(['yearID', 'SLG_Difference']), on ='yearID', how='left')\n",
    "                                          \n",
    "SLG_plot = (ggplot(data = batting)\n",
    " + geom_line(aes(x = \"yearID\",\n",
    "                 y = \"league_wide_SLG\",\n",
    "                 color = \"lgID\"\n",
    "                )\n",
    "            )\n",
    " + geom_line(aes(y = 'yearID',\n",
    "                 x = 'SLG_Difference',\n",
    "                 color = 'DL_SLG'\n",
    "                ), size = 1\n",
    "            )\n",
    " + geom_vline(xintercept = 1973, linetype = 'dashed', color = 'orange')\n",
    " + geom_vline(xintercept = 2022, linetype = 'dashed', color = 'orange')\n",
    " + annotate('text', x = 1950,\n",
    "                    y = 0.55,\n",
    "                      size = 8,\n",
    "                      label = 'DH was introduced to the NL in 2022',\n",
    "                      ha = 'right')\n",
    " + theme_classic()\n",
    " + theme(\n",
    "         panel_border = element_rect(color = 'black', fill = None, size = 1.5)\n",
    "         )\n",
    " + ggtitle(\"League SLG vs. YearID\")\n",
    " + geom_hline(yintercept = 0, linetype = 'dashed', color = 'grey')\n",
    " + scale_color_manual(name = \"League\",\n",
    "                      values = {'AL' : 'blue',\n",
    "                                'NL' : 'green',\n",
    "                                'AL - NL' : 'red'}\n",
    "                     )\n",
    ")\n",
    "\n"
   ]
  },
  {
   "cell_type": "code",
   "execution_count": 27,
   "id": "e2612759-447e-4d4d-b7dd-ac8932c60957",
   "metadata": {},
   "outputs": [
    {
     "name": "stdout",
     "output_type": "stream",
     "text": [
      "<ggplot: (640 x 480)>\n"
     ]
    }
   ],
   "source": [
    "print(SLG_plot)"
   ]
  },
  {
   "cell_type": "code",
   "execution_count": 36,
   "id": "8aee73de-557d-4513-94c9-866b42bae07f",
   "metadata": {},
   "outputs": [
    {
     "name": "stderr",
     "output_type": "stream",
     "text": [
      "C:\\Users\\rt2332in\\AppData\\Local\\anaconda3\\envs\\polars\\Lib\\site-packages\\plotnine\\ggplot.py:630: PlotnineWarning: Saving 10 x 6 in image.\n",
      "C:\\Users\\rt2332in\\AppData\\Local\\anaconda3\\envs\\polars\\Lib\\site-packages\\plotnine\\ggplot.py:631: PlotnineWarning: Filename: image/SLG_plot.png\n"
     ]
    },
    {
     "ename": "ModuleNotFoundError",
     "evalue": "No module named 'pyarrow'",
     "output_type": "error",
     "traceback": [
      "\u001b[31m---------------------------------------------------------------------------\u001b[39m",
      "\u001b[31mModuleNotFoundError\u001b[39m                       Traceback (most recent call last)",
      "\u001b[36mCell\u001b[39m\u001b[36m \u001b[39m\u001b[32mIn[36]\u001b[39m\u001b[32m, line 1\u001b[39m\n\u001b[32m----> \u001b[39m\u001b[32m1\u001b[39m \u001b[43mSLG_plot\u001b[49m\u001b[43m.\u001b[49m\u001b[43msave\u001b[49m\u001b[43m(\u001b[49m\u001b[33;43m\"\u001b[39;49m\u001b[33;43mimage/SLG_plot.png\u001b[39;49m\u001b[33;43m\"\u001b[39;49m\u001b[43m,\u001b[49m\u001b[43m \u001b[49m\u001b[43mdpi\u001b[49m\u001b[43m=\u001b[49m\u001b[32;43m300\u001b[39;49m\u001b[43m,\u001b[49m\u001b[43m \u001b[49m\u001b[43mwidth\u001b[49m\u001b[43m \u001b[49m\u001b[43m=\u001b[49m\u001b[43m \u001b[49m\u001b[32;43m10\u001b[39;49m\u001b[43m,\u001b[49m\u001b[43m \u001b[49m\u001b[43mheight\u001b[49m\u001b[43m \u001b[49m\u001b[43m=\u001b[49m\u001b[43m \u001b[49m\u001b[32;43m6\u001b[39;49m\u001b[43m)\u001b[49m\n",
      "\u001b[36mFile \u001b[39m\u001b[32m~\\AppData\\Local\\anaconda3\\envs\\polars\\Lib\\site-packages\\plotnine\\ggplot.py:688\u001b[39m, in \u001b[36mggplot.save\u001b[39m\u001b[34m(self, filename, format, path, width, height, units, dpi, limitsize, verbose, **kwargs)\u001b[39m\n\u001b[32m    639\u001b[39m \u001b[38;5;28;01mdef\u001b[39;00m\u001b[38;5;250m \u001b[39m\u001b[34msave\u001b[39m(\n\u001b[32m    640\u001b[39m     \u001b[38;5;28mself\u001b[39m,\n\u001b[32m    641\u001b[39m     filename: Optional[\u001b[38;5;28mstr\u001b[39m | Path | BytesIO] = \u001b[38;5;28;01mNone\u001b[39;00m,\n\u001b[32m   (...)\u001b[39m\u001b[32m    650\u001b[39m     **kwargs: Any,\n\u001b[32m    651\u001b[39m ):\n\u001b[32m    652\u001b[39m \u001b[38;5;250m    \u001b[39m\u001b[33;03m\"\"\"\u001b[39;00m\n\u001b[32m    653\u001b[39m \u001b[33;03m    Save a ggplot object as an image file\u001b[39;00m\n\u001b[32m    654\u001b[39m \n\u001b[32m   (...)\u001b[39m\u001b[32m    686\u001b[39m \u001b[33;03m        Additional arguments to pass to matplotlib `savefig()`.\u001b[39;00m\n\u001b[32m    687\u001b[39m \u001b[33;03m    \"\"\"\u001b[39;00m\n\u001b[32m--> \u001b[39m\u001b[32m688\u001b[39m     sv = \u001b[38;5;28;43mself\u001b[39;49m\u001b[43m.\u001b[49m\u001b[43msave_helper\u001b[49m\u001b[43m(\u001b[49m\n\u001b[32m    689\u001b[39m \u001b[43m        \u001b[49m\u001b[43mfilename\u001b[49m\u001b[43m=\u001b[49m\u001b[43mfilename\u001b[49m\u001b[43m,\u001b[49m\n\u001b[32m    690\u001b[39m \u001b[43m        \u001b[49m\u001b[38;5;28;43mformat\u001b[39;49m\u001b[43m=\u001b[49m\u001b[38;5;28;43mformat\u001b[39;49m\u001b[43m,\u001b[49m\n\u001b[32m    691\u001b[39m \u001b[43m        \u001b[49m\u001b[43mpath\u001b[49m\u001b[43m=\u001b[49m\u001b[43mpath\u001b[49m\u001b[43m,\u001b[49m\n\u001b[32m    692\u001b[39m \u001b[43m        \u001b[49m\u001b[43mwidth\u001b[49m\u001b[43m=\u001b[49m\u001b[43mwidth\u001b[49m\u001b[43m,\u001b[49m\n\u001b[32m    693\u001b[39m \u001b[43m        \u001b[49m\u001b[43mheight\u001b[49m\u001b[43m=\u001b[49m\u001b[43mheight\u001b[49m\u001b[43m,\u001b[49m\n\u001b[32m    694\u001b[39m \u001b[43m        \u001b[49m\u001b[43munits\u001b[49m\u001b[43m=\u001b[49m\u001b[43munits\u001b[49m\u001b[43m,\u001b[49m\n\u001b[32m    695\u001b[39m \u001b[43m        \u001b[49m\u001b[43mdpi\u001b[49m\u001b[43m=\u001b[49m\u001b[43mdpi\u001b[49m\u001b[43m,\u001b[49m\n\u001b[32m    696\u001b[39m \u001b[43m        \u001b[49m\u001b[43mlimitsize\u001b[49m\u001b[43m=\u001b[49m\u001b[43mlimitsize\u001b[49m\u001b[43m,\u001b[49m\n\u001b[32m    697\u001b[39m \u001b[43m        \u001b[49m\u001b[43mverbose\u001b[49m\u001b[43m=\u001b[49m\u001b[43mverbose\u001b[49m\u001b[43m,\u001b[49m\n\u001b[32m    698\u001b[39m \u001b[43m        \u001b[49m\u001b[43m*\u001b[49m\u001b[43m*\u001b[49m\u001b[43mkwargs\u001b[49m\u001b[43m,\u001b[49m\n\u001b[32m    699\u001b[39m \u001b[43m    \u001b[49m\u001b[43m)\u001b[49m\n\u001b[32m    701\u001b[39m     \u001b[38;5;28;01mwith\u001b[39;00m plot_context(\u001b[38;5;28mself\u001b[39m).rc_context:\n\u001b[32m    702\u001b[39m         sv.figure.savefig(**sv.kwargs)\n",
      "\u001b[36mFile \u001b[39m\u001b[32m~\\AppData\\Local\\anaconda3\\envs\\polars\\Lib\\site-packages\\plotnine\\ggplot.py:636\u001b[39m, in \u001b[36mggplot.save_helper\u001b[39m\u001b[34m(self, filename, format, path, width, height, units, dpi, limitsize, verbose, **kwargs)\u001b[39m\n\u001b[32m    633\u001b[39m \u001b[38;5;28;01mif\u001b[39;00m dpi \u001b[38;5;129;01mis\u001b[39;00m \u001b[38;5;129;01mnot\u001b[39;00m \u001b[38;5;28;01mNone\u001b[39;00m:\n\u001b[32m    634\u001b[39m     \u001b[38;5;28mself\u001b[39m.theme = \u001b[38;5;28mself\u001b[39m.theme + theme(dpi=dpi)\n\u001b[32m--> \u001b[39m\u001b[32m636\u001b[39m figure = \u001b[38;5;28;43mself\u001b[39;49m\u001b[43m.\u001b[49m\u001b[43mdraw\u001b[49m\u001b[43m(\u001b[49m\u001b[43mshow\u001b[49m\u001b[43m=\u001b[49m\u001b[38;5;28;43;01mFalse\u001b[39;49;00m\u001b[43m)\u001b[49m\n\u001b[32m    637\u001b[39m \u001b[38;5;28;01mreturn\u001b[39;00m mpl_save_view(figure, fig_kwargs)\n",
      "\u001b[36mFile \u001b[39m\u001b[32m~\\AppData\\Local\\anaconda3\\envs\\polars\\Lib\\site-packages\\plotnine\\ggplot.py:308\u001b[39m, in \u001b[36mggplot.draw\u001b[39m\u001b[34m(self, show)\u001b[39m\n\u001b[32m    305\u001b[39m     \u001b[38;5;28mself\u001b[39m._create_figure()\n\u001b[32m    306\u001b[39m figure = \u001b[38;5;28mself\u001b[39m.figure\n\u001b[32m--> \u001b[39m\u001b[32m308\u001b[39m \u001b[38;5;28;43mself\u001b[39;49m\u001b[43m.\u001b[49m\u001b[43m_build\u001b[49m\u001b[43m(\u001b[49m\u001b[43m)\u001b[49m\n\u001b[32m    310\u001b[39m \u001b[38;5;66;03m# setup\u001b[39;00m\n\u001b[32m    311\u001b[39m \u001b[38;5;28mself\u001b[39m.axs = \u001b[38;5;28mself\u001b[39m.facet.setup(\u001b[38;5;28mself\u001b[39m)\n",
      "\u001b[36mFile \u001b[39m\u001b[32m~\\AppData\\Local\\anaconda3\\envs\\polars\\Lib\\site-packages\\plotnine\\ggplot.py:363\u001b[39m, in \u001b[36mggplot._build\u001b[39m\u001b[34m(self)\u001b[39m\n\u001b[32m    359\u001b[39m layers.update_labels(\u001b[38;5;28mself\u001b[39m)\n\u001b[32m    361\u001b[39m \u001b[38;5;66;03m# Give each layer a copy of the data, the mappings and\u001b[39;00m\n\u001b[32m    362\u001b[39m \u001b[38;5;66;03m# the execution environment\u001b[39;00m\n\u001b[32m--> \u001b[39m\u001b[32m363\u001b[39m \u001b[43mlayers\u001b[49m\u001b[43m.\u001b[49m\u001b[43msetup\u001b[49m\u001b[43m(\u001b[49m\u001b[38;5;28;43mself\u001b[39;49m\u001b[43m)\u001b[49m\n\u001b[32m    365\u001b[39m \u001b[38;5;66;03m# Initialise panels, add extra data for margins & missing\u001b[39;00m\n\u001b[32m    366\u001b[39m \u001b[38;5;66;03m# facetting variables, and add on a PANEL variable to data\u001b[39;00m\n\u001b[32m    367\u001b[39m layout.setup(layers, \u001b[38;5;28mself\u001b[39m)\n",
      "\u001b[36mFile \u001b[39m\u001b[32m~\\AppData\\Local\\anaconda3\\envs\\polars\\Lib\\site-packages\\plotnine\\layer.py:464\u001b[39m, in \u001b[36mLayers.setup\u001b[39m\u001b[34m(self, plot)\u001b[39m\n\u001b[32m    462\u001b[39m \u001b[38;5;28;01mfor\u001b[39;00m i, l \u001b[38;5;129;01min\u001b[39;00m \u001b[38;5;28menumerate\u001b[39m(\u001b[38;5;28mself\u001b[39m, start=\u001b[32m1\u001b[39m):\n\u001b[32m    463\u001b[39m     l.zorder = i\n\u001b[32m--> \u001b[39m\u001b[32m464\u001b[39m     \u001b[43ml\u001b[49m\u001b[43m.\u001b[49m\u001b[43msetup\u001b[49m\u001b[43m(\u001b[49m\u001b[43mplot\u001b[49m\u001b[43m)\u001b[49m\n",
      "\u001b[36mFile \u001b[39m\u001b[32m~\\AppData\\Local\\anaconda3\\envs\\polars\\Lib\\site-packages\\plotnine\\layer.py:163\u001b[39m, in \u001b[36mlayer.setup\u001b[39m\u001b[34m(self, plot)\u001b[39m\n\u001b[32m    157\u001b[39m \u001b[38;5;28;01mdef\u001b[39;00m\u001b[38;5;250m \u001b[39m\u001b[34msetup\u001b[39m(\u001b[38;5;28mself\u001b[39m, plot: ggplot):\n\u001b[32m    158\u001b[39m \u001b[38;5;250m    \u001b[39m\u001b[33;03m\"\"\"\u001b[39;00m\n\u001b[32m    159\u001b[39m \u001b[33;03m    Prepare layer for the plot building\u001b[39;00m\n\u001b[32m    160\u001b[39m \n\u001b[32m    161\u001b[39m \u001b[33;03m    Give the layer access to the data, mapping and environment\u001b[39;00m\n\u001b[32m    162\u001b[39m \u001b[33;03m    \"\"\"\u001b[39;00m\n\u001b[32m--> \u001b[39m\u001b[32m163\u001b[39m     \u001b[38;5;28;43mself\u001b[39;49m\u001b[43m.\u001b[49m\u001b[43m_make_layer_data\u001b[49m\u001b[43m(\u001b[49m\u001b[43mplot\u001b[49m\u001b[43m.\u001b[49m\u001b[43mdata\u001b[49m\u001b[43m)\u001b[49m\n\u001b[32m    164\u001b[39m     \u001b[38;5;28mself\u001b[39m._make_layer_mapping(plot.mapping)\n\u001b[32m    165\u001b[39m     \u001b[38;5;28mself\u001b[39m._make_layer_environments(plot.environment)\n",
      "\u001b[36mFile \u001b[39m\u001b[32m~\\AppData\\Local\\anaconda3\\envs\\polars\\Lib\\site-packages\\plotnine\\layer.py:180\u001b[39m, in \u001b[36mlayer._make_layer_data\u001b[39m\u001b[34m(self, plot_data)\u001b[39m\n\u001b[32m    178\u001b[39m     data = pd.DataFrame()\n\u001b[32m    179\u001b[39m \u001b[38;5;28;01melif\u001b[39;00m \u001b[38;5;28mhasattr\u001b[39m(plot_data, \u001b[33m\"\u001b[39m\u001b[33mto_pandas\u001b[39m\u001b[33m\"\u001b[39m):\n\u001b[32m--> \u001b[39m\u001b[32m180\u001b[39m     data = \u001b[43mcast\u001b[49m\u001b[43m(\u001b[49m\u001b[33;43m\"\u001b[39;49m\u001b[33;43mDataFrameConvertible\u001b[39;49m\u001b[33;43m\"\u001b[39;49m\u001b[43m,\u001b[49m\u001b[43m \u001b[49m\u001b[43mplot_data\u001b[49m\u001b[43m)\u001b[49m\u001b[43m.\u001b[49m\u001b[43mto_pandas\u001b[49m\u001b[43m(\u001b[49m\u001b[43m)\u001b[49m\n\u001b[32m    181\u001b[39m \u001b[38;5;28;01melse\u001b[39;00m:\n\u001b[32m    182\u001b[39m     data = cast(\u001b[33m\"\u001b[39m\u001b[33mpd.DataFrame\u001b[39m\u001b[33m\"\u001b[39m, plot_data)\n",
      "\u001b[36mFile \u001b[39m\u001b[32m~\\AppData\\Local\\anaconda3\\envs\\polars\\Lib\\site-packages\\polars\\dataframe\\frame.py:2561\u001b[39m, in \u001b[36mDataFrame.to_pandas\u001b[39m\u001b[34m(self, use_pyarrow_extension_array, **kwargs)\u001b[39m\n\u001b[32m   2556\u001b[39m \u001b[38;5;28;01mif\u001b[39;00m Object \u001b[38;5;129;01min\u001b[39;00m \u001b[38;5;28mself\u001b[39m.dtypes:\n\u001b[32m   2557\u001b[39m     \u001b[38;5;28;01mreturn\u001b[39;00m \u001b[38;5;28mself\u001b[39m._to_pandas_with_object_columns(\n\u001b[32m   2558\u001b[39m         use_pyarrow_extension_array=use_pyarrow_extension_array, **kwargs\n\u001b[32m   2559\u001b[39m     )\n\u001b[32m-> \u001b[39m\u001b[32m2561\u001b[39m \u001b[38;5;28;01mreturn\u001b[39;00m \u001b[38;5;28;43mself\u001b[39;49m\u001b[43m.\u001b[49m\u001b[43m_to_pandas_without_object_columns\u001b[49m\u001b[43m(\u001b[49m\n\u001b[32m   2562\u001b[39m \u001b[43m    \u001b[49m\u001b[38;5;28;43mself\u001b[39;49m\u001b[43m,\u001b[49m\u001b[43m \u001b[49m\u001b[43muse_pyarrow_extension_array\u001b[49m\u001b[43m=\u001b[49m\u001b[43muse_pyarrow_extension_array\u001b[49m\u001b[43m,\u001b[49m\u001b[43m \u001b[49m\u001b[43m*\u001b[49m\u001b[43m*\u001b[49m\u001b[43mkwargs\u001b[49m\n\u001b[32m   2563\u001b[39m \u001b[43m\u001b[49m\u001b[43m)\u001b[49m\n",
      "\u001b[36mFile \u001b[39m\u001b[32m~\\AppData\\Local\\anaconda3\\envs\\polars\\Lib\\site-packages\\polars\\dataframe\\frame.py:2612\u001b[39m, in \u001b[36mDataFrame._to_pandas_without_object_columns\u001b[39m\u001b[34m(self, df, use_pyarrow_extension_array, **kwargs)\u001b[39m\n\u001b[32m   2609\u001b[39m \u001b[38;5;28;01mif\u001b[39;00m \u001b[38;5;129;01mnot\u001b[39;00m df.width:  \u001b[38;5;66;03m# Empty dataframe, cannot infer schema from batches\u001b[39;00m\n\u001b[32m   2610\u001b[39m     \u001b[38;5;28;01mreturn\u001b[39;00m pd.DataFrame()\n\u001b[32m-> \u001b[39m\u001b[32m2612\u001b[39m record_batches = \u001b[43mdf\u001b[49m\u001b[43m.\u001b[49m\u001b[43m_df\u001b[49m\u001b[43m.\u001b[49m\u001b[43mto_pandas\u001b[49m\u001b[43m(\u001b[49m\u001b[43m)\u001b[49m\n\u001b[32m   2613\u001b[39m tbl = pa.Table.from_batches(record_batches)\n\u001b[32m   2614\u001b[39m \u001b[38;5;28;01mif\u001b[39;00m use_pyarrow_extension_array:\n",
      "\u001b[31mModuleNotFoundError\u001b[39m: No module named 'pyarrow'"
     ]
    }
   ],
   "source": [
    "SLG_plot.save(\"image/SLG_plot.png\", dpi=300, width = 10, height = 6)"
   ]
  },
  {
   "cell_type": "code",
   "execution_count": null,
   "id": "dc259156-994d-4d6e-8702-fc0e66ceb0a7",
   "metadata": {},
   "outputs": [],
   "source": []
  },
  {
   "cell_type": "code",
   "execution_count": null,
   "id": "39dadda8-5c34-4114-9cbc-513404b5d91d",
   "metadata": {},
   "outputs": [],
   "source": []
  }
 ],
 "metadata": {
  "kernelspec": {
   "display_name": "Python 3 (ipykernel)",
   "language": "python",
   "name": "python3"
  },
  "language_info": {
   "codemirror_mode": {
    "name": "ipython",
    "version": 3
   },
   "file_extension": ".py",
   "mimetype": "text/x-python",
   "name": "python",
   "nbconvert_exporter": "python",
   "pygments_lexer": "ipython3",
   "version": "3.13.5"
  }
 },
 "nbformat": 4,
 "nbformat_minor": 5
}
