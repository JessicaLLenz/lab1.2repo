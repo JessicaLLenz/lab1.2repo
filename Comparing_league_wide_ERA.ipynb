{
 "cells": [
  {
   "cell_type": "code",
   "execution_count": 1,
   "id": "8ecdaed5-ff77-4463-937c-548d8765f5a2",
   "metadata": {},
   "outputs": [],
   "source": [
    "import polars as pl"
   ]
  },
  {
   "cell_type": "code",
   "execution_count": 7,
   "id": "fc80ecfd-903a-4479-98de-cae9bfd4843a",
   "metadata": {},
   "outputs": [
    {
     "data": {
      "text/html": [
       "<div><style>\n",
       ".dataframe > thead > tr,\n",
       ".dataframe > tbody > tr {\n",
       "  text-align: right;\n",
       "  white-space: pre-wrap;\n",
       "}\n",
       "</style>\n",
       "<small>shape: (52_344, 30)</small><table border=\"1\" class=\"dataframe\"><thead><tr><th>playerID</th><th>yearID</th><th>stint</th><th>teamID</th><th>lgID</th><th>W</th><th>L</th><th>G</th><th>GS</th><th>CG</th><th>SHO</th><th>SV</th><th>IPouts</th><th>H</th><th>ER</th><th>HR</th><th>BB</th><th>SO</th><th>BAOpp</th><th>ERA</th><th>IBB</th><th>WP</th><th>HBP</th><th>BK</th><th>BFP</th><th>GF</th><th>R</th><th>SH</th><th>SF</th><th>GIDP</th></tr><tr><td>str</td><td>i64</td><td>i64</td><td>str</td><td>str</td><td>i64</td><td>i64</td><td>i64</td><td>i64</td><td>i64</td><td>i64</td><td>i64</td><td>i64</td><td>i64</td><td>i64</td><td>i64</td><td>i64</td><td>i64</td><td>f64</td><td>f64</td><td>i64</td><td>i64</td><td>i64</td><td>i64</td><td>i64</td><td>i64</td><td>i64</td><td>i64</td><td>i64</td><td>i64</td></tr></thead><tbody><tr><td>&quot;aardsda01&quot;</td><td>2004</td><td>1</td><td>&quot;SFN&quot;</td><td>&quot;NL&quot;</td><td>1</td><td>0</td><td>11</td><td>0</td><td>0</td><td>0</td><td>0</td><td>32</td><td>20</td><td>8</td><td>1</td><td>10</td><td>5</td><td>0.417</td><td>6.75</td><td>0</td><td>0</td><td>2</td><td>0</td><td>61</td><td>5</td><td>8</td><td>0</td><td>1</td><td>1</td></tr><tr><td>&quot;aardsda01&quot;</td><td>2006</td><td>1</td><td>&quot;CHN&quot;</td><td>&quot;NL&quot;</td><td>3</td><td>0</td><td>45</td><td>0</td><td>0</td><td>0</td><td>0</td><td>159</td><td>41</td><td>24</td><td>9</td><td>28</td><td>49</td><td>0.214</td><td>4.08</td><td>0</td><td>1</td><td>1</td><td>0</td><td>225</td><td>9</td><td>25</td><td>1</td><td>3</td><td>2</td></tr><tr><td>&quot;aardsda01&quot;</td><td>2007</td><td>1</td><td>&quot;CHA&quot;</td><td>&quot;AL&quot;</td><td>2</td><td>1</td><td>25</td><td>0</td><td>0</td><td>0</td><td>0</td><td>97</td><td>39</td><td>23</td><td>4</td><td>17</td><td>36</td><td>0.3</td><td>6.4</td><td>3</td><td>2</td><td>1</td><td>0</td><td>151</td><td>7</td><td>24</td><td>2</td><td>1</td><td>1</td></tr><tr><td>&quot;aardsda01&quot;</td><td>2008</td><td>1</td><td>&quot;BOS&quot;</td><td>&quot;AL&quot;</td><td>4</td><td>2</td><td>47</td><td>0</td><td>0</td><td>0</td><td>0</td><td>146</td><td>49</td><td>30</td><td>4</td><td>35</td><td>49</td><td>0.268</td><td>5.55</td><td>2</td><td>3</td><td>5</td><td>0</td><td>228</td><td>7</td><td>32</td><td>3</td><td>2</td><td>4</td></tr><tr><td>&quot;aardsda01&quot;</td><td>2009</td><td>1</td><td>&quot;SEA&quot;</td><td>&quot;AL&quot;</td><td>3</td><td>6</td><td>73</td><td>0</td><td>0</td><td>0</td><td>38</td><td>214</td><td>49</td><td>20</td><td>4</td><td>34</td><td>80</td><td>0.19</td><td>2.52</td><td>3</td><td>2</td><td>0</td><td>0</td><td>296</td><td>53</td><td>23</td><td>2</td><td>1</td><td>2</td></tr><tr><td>&hellip;</td><td>&hellip;</td><td>&hellip;</td><td>&hellip;</td><td>&hellip;</td><td>&hellip;</td><td>&hellip;</td><td>&hellip;</td><td>&hellip;</td><td>&hellip;</td><td>&hellip;</td><td>&hellip;</td><td>&hellip;</td><td>&hellip;</td><td>&hellip;</td><td>&hellip;</td><td>&hellip;</td><td>&hellip;</td><td>&hellip;</td><td>&hellip;</td><td>&hellip;</td><td>&hellip;</td><td>&hellip;</td><td>&hellip;</td><td>&hellip;</td><td>&hellip;</td><td>&hellip;</td><td>&hellip;</td><td>&hellip;</td><td>&hellip;</td></tr><tr><td>&quot;zuverge01&quot;</td><td>1958</td><td>1</td><td>&quot;BAL&quot;</td><td>&quot;AL&quot;</td><td>2</td><td>2</td><td>45</td><td>0</td><td>0</td><td>0</td><td>7</td><td>207</td><td>74</td><td>26</td><td>4</td><td>17</td><td>22</td><td>0.28</td><td>3.39</td><td>3</td><td>2</td><td>6</td><td>0</td><td>294</td><td>23</td><td>29</td><td>null</td><td>null</td><td>null</td></tr><tr><td>&quot;zuverge01&quot;</td><td>1959</td><td>1</td><td>&quot;BAL&quot;</td><td>&quot;AL&quot;</td><td>0</td><td>1</td><td>6</td><td>0</td><td>0</td><td>0</td><td>0</td><td>39</td><td>15</td><td>6</td><td>1</td><td>6</td><td>1</td><td>0.3</td><td>4.15</td><td>0</td><td>1</td><td>0</td><td>0</td><td>55</td><td>1</td><td>7</td><td>null</td><td>null</td><td>null</td></tr><tr><td>&quot;zychto01&quot;</td><td>2015</td><td>1</td><td>&quot;SEA&quot;</td><td>&quot;AL&quot;</td><td>0</td><td>0</td><td>13</td><td>1</td><td>0</td><td>0</td><td>0</td><td>55</td><td>17</td><td>5</td><td>1</td><td>3</td><td>24</td><td>0.239</td><td>2.45</td><td>0</td><td>1</td><td>2</td><td>0</td><td>76</td><td>4</td><td>6</td><td>0</td><td>0</td><td>0</td></tr><tr><td>&quot;zychto01&quot;</td><td>2016</td><td>1</td><td>&quot;SEA&quot;</td><td>&quot;AL&quot;</td><td>1</td><td>0</td><td>12</td><td>0</td><td>0</td><td>0</td><td>0</td><td>41</td><td>10</td><td>5</td><td>0</td><td>10</td><td>21</td><td>0.208</td><td>3.29</td><td>2</td><td>0</td><td>1</td><td>0</td><td>60</td><td>3</td><td>6</td><td>0</td><td>1</td><td>1</td></tr><tr><td>&quot;zychto01&quot;</td><td>2017</td><td>1</td><td>&quot;SEA&quot;</td><td>&quot;AL&quot;</td><td>6</td><td>3</td><td>45</td><td>0</td><td>0</td><td>0</td><td>1</td><td>122</td><td>30</td><td>12</td><td>2</td><td>21</td><td>35</td><td>0.208</td><td>2.66</td><td>3</td><td>1</td><td>5</td><td>1</td><td>173</td><td>7</td><td>12</td><td>1</td><td>2</td><td>5</td></tr></tbody></table></div>"
      ],
      "text/plain": [
       "shape: (52_344, 30)\n",
       "┌───────────┬────────┬───────┬────────┬───┬─────┬──────┬──────┬──────┐\n",
       "│ playerID  ┆ yearID ┆ stint ┆ teamID ┆ … ┆ R   ┆ SH   ┆ SF   ┆ GIDP │\n",
       "│ ---       ┆ ---    ┆ ---   ┆ ---    ┆   ┆ --- ┆ ---  ┆ ---  ┆ ---  │\n",
       "│ str       ┆ i64    ┆ i64   ┆ str    ┆   ┆ i64 ┆ i64  ┆ i64  ┆ i64  │\n",
       "╞═══════════╪════════╪═══════╪════════╪═══╪═════╪══════╪══════╪══════╡\n",
       "│ aardsda01 ┆ 2004   ┆ 1     ┆ SFN    ┆ … ┆ 8   ┆ 0    ┆ 1    ┆ 1    │\n",
       "│ aardsda01 ┆ 2006   ┆ 1     ┆ CHN    ┆ … ┆ 25  ┆ 1    ┆ 3    ┆ 2    │\n",
       "│ aardsda01 ┆ 2007   ┆ 1     ┆ CHA    ┆ … ┆ 24  ┆ 2    ┆ 1    ┆ 1    │\n",
       "│ aardsda01 ┆ 2008   ┆ 1     ┆ BOS    ┆ … ┆ 32  ┆ 3    ┆ 2    ┆ 4    │\n",
       "│ aardsda01 ┆ 2009   ┆ 1     ┆ SEA    ┆ … ┆ 23  ┆ 2    ┆ 1    ┆ 2    │\n",
       "│ …         ┆ …      ┆ …     ┆ …      ┆ … ┆ …   ┆ …    ┆ …    ┆ …    │\n",
       "│ zuverge01 ┆ 1958   ┆ 1     ┆ BAL    ┆ … ┆ 29  ┆ null ┆ null ┆ null │\n",
       "│ zuverge01 ┆ 1959   ┆ 1     ┆ BAL    ┆ … ┆ 7   ┆ null ┆ null ┆ null │\n",
       "│ zychto01  ┆ 2015   ┆ 1     ┆ SEA    ┆ … ┆ 6   ┆ 0    ┆ 0    ┆ 0    │\n",
       "│ zychto01  ┆ 2016   ┆ 1     ┆ SEA    ┆ … ┆ 6   ┆ 0    ┆ 1    ┆ 1    │\n",
       "│ zychto01  ┆ 2017   ┆ 1     ┆ SEA    ┆ … ┆ 12  ┆ 1    ┆ 2    ┆ 5    │\n",
       "└───────────┴────────┴───────┴────────┴───┴─────┴──────┴──────┴──────┘"
      ]
     },
     "execution_count": 7,
     "metadata": {},
     "output_type": "execute_result"
    }
   ],
   "source": [
    "(pitching := \n",
    "  pl.read_csv(\"./data/csvFilesLahman/Pitching.csv\")\n",
    ")"
   ]
  },
  {
   "cell_type": "code",
   "execution_count": 11,
   "id": "4fa83e49-5c1e-491c-9322-60da323aab02",
   "metadata": {},
   "outputs": [],
   "source": [
    "league_wide_ERA = (\n",
    "    pitching\n",
    "    .filter(pl.col(\"yearID\") >= 1946)\n",
    "    .group_by(\"yearID\", \"lgID\")\n",
    "    .agg(total_runs_allowed = pl.sum(\"R\"),\n",
    "         total_innings_pitched = pl.sum(\"IPouts\"),\n",
    "         )\n",
    "    .with_columns([\n",
    "        (pl.col(\"total_runs_allowed\")/pl.col(\"total_innings_pitched\")*27),\n",
    "         pl.when(pl.col(\"yearID\") >= 1973)\n",
    "           .then(pl.lit(\"DH\"))\n",
    "           .otherwise(pl.lit(\"NO DH\"))\n",
    "           .alias(\"DH Rule\")\n",
    "        ])\n",
    "    .drop(\"total_innings_pitched\", \"total_runs_allowed\")\n",
    "              ) \n",
    "league_wide_ERA.write_csv(\"data/league_wide_ERA.csv\")"
   ]
  },
  {
   "cell_type": "code",
   "execution_count": 12,
   "id": "f2f6adc8-b774-47ed-89fa-0168ff18da13",
   "metadata": {},
   "outputs": [
    {
     "data": {
      "text/html": [
       "<div><style>\n",
       ".dataframe > thead > tr,\n",
       ".dataframe > tbody > tr {\n",
       "  text-align: right;\n",
       "  white-space: pre-wrap;\n",
       "}\n",
       "</style>\n",
       "<small>shape: (5, 3)</small><table border=\"1\" class=\"dataframe\"><thead><tr><th>yearID</th><th>lgID</th><th>DH Rule</th></tr><tr><td>i64</td><td>str</td><td>str</td></tr></thead><tbody><tr><td>2013</td><td>&quot;NL&quot;</td><td>&quot;DH&quot;</td></tr><tr><td>2024</td><td>&quot;NL&quot;</td><td>&quot;DH&quot;</td></tr><tr><td>2007</td><td>&quot;AL&quot;</td><td>&quot;DH&quot;</td></tr><tr><td>1949</td><td>&quot;NL&quot;</td><td>&quot;NO DH&quot;</td></tr><tr><td>1989</td><td>&quot;AL&quot;</td><td>&quot;DH&quot;</td></tr></tbody></table></div>"
      ],
      "text/plain": [
       "shape: (5, 3)\n",
       "┌────────┬──────┬─────────┐\n",
       "│ yearID ┆ lgID ┆ DH Rule │\n",
       "│ ---    ┆ ---  ┆ ---     │\n",
       "│ i64    ┆ str  ┆ str     │\n",
       "╞════════╪══════╪═════════╡\n",
       "│ 2013   ┆ NL   ┆ DH      │\n",
       "│ 2024   ┆ NL   ┆ DH      │\n",
       "│ 2007   ┆ AL   ┆ DH      │\n",
       "│ 1949   ┆ NL   ┆ NO DH   │\n",
       "│ 1989   ┆ AL   ┆ DH      │\n",
       "└────────┴──────┴─────────┘"
      ]
     },
     "execution_count": 12,
     "metadata": {},
     "output_type": "execute_result"
    }
   ],
   "source": [
    "league_wide_ERA.head()\n",
    " "
   ]
  },
  {
   "cell_type": "code",
   "execution_count": 14,
   "id": "a0935bbb-3bee-4f2b-b2ac-f65bf401bcf0",
   "metadata": {},
   "outputs": [
    {
     "data": {
      "text/html": [
       "<div><style>\n",
       ".dataframe > thead > tr,\n",
       ".dataframe > tbody > tr {\n",
       "  text-align: right;\n",
       "  white-space: pre-wrap;\n",
       "}\n",
       "</style>\n",
       "<small>shape: (5, 24)</small><table border=\"1\" class=\"dataframe\"><thead><tr><th>playerID</th><th>yearID</th><th>stint</th><th>teamID</th><th>lgID</th><th>G</th><th>G_batting</th><th>AB</th><th>R</th><th>H</th><th>2B</th><th>3B</th><th>HR</th><th>RBI</th><th>SB</th><th>CS</th><th>BB</th><th>SO</th><th>IBB</th><th>HBP</th><th>SH</th><th>SF</th><th>GIDP</th><th>G_old</th></tr><tr><td>str</td><td>i64</td><td>i64</td><td>str</td><td>str</td><td>i64</td><td>i64</td><td>i64</td><td>i64</td><td>i64</td><td>i64</td><td>i64</td><td>i64</td><td>i64</td><td>i64</td><td>i64</td><td>i64</td><td>i64</td><td>i64</td><td>i64</td><td>i64</td><td>i64</td><td>i64</td><td>i64</td></tr></thead><tbody><tr><td>&quot;aardsda01&quot;</td><td>2004</td><td>1</td><td>&quot;SFN&quot;</td><td>&quot;NL&quot;</td><td>11</td><td>null</td><td>0</td><td>0</td><td>0</td><td>0</td><td>0</td><td>0</td><td>0</td><td>0</td><td>0</td><td>0</td><td>0</td><td>0</td><td>0</td><td>0</td><td>0</td><td>0</td><td>null</td></tr><tr><td>&quot;aardsda01&quot;</td><td>2006</td><td>1</td><td>&quot;CHN&quot;</td><td>&quot;NL&quot;</td><td>45</td><td>null</td><td>2</td><td>0</td><td>0</td><td>0</td><td>0</td><td>0</td><td>0</td><td>0</td><td>0</td><td>0</td><td>0</td><td>0</td><td>0</td><td>1</td><td>0</td><td>0</td><td>null</td></tr><tr><td>&quot;aardsda01&quot;</td><td>2007</td><td>1</td><td>&quot;CHA&quot;</td><td>&quot;AL&quot;</td><td>25</td><td>null</td><td>0</td><td>0</td><td>0</td><td>0</td><td>0</td><td>0</td><td>0</td><td>0</td><td>0</td><td>0</td><td>0</td><td>0</td><td>0</td><td>0</td><td>0</td><td>0</td><td>null</td></tr><tr><td>&quot;aardsda01&quot;</td><td>2008</td><td>1</td><td>&quot;BOS&quot;</td><td>&quot;AL&quot;</td><td>47</td><td>null</td><td>1</td><td>0</td><td>0</td><td>0</td><td>0</td><td>0</td><td>0</td><td>0</td><td>0</td><td>0</td><td>1</td><td>0</td><td>0</td><td>0</td><td>0</td><td>0</td><td>null</td></tr><tr><td>&quot;aardsda01&quot;</td><td>2009</td><td>1</td><td>&quot;SEA&quot;</td><td>&quot;AL&quot;</td><td>73</td><td>null</td><td>0</td><td>0</td><td>0</td><td>0</td><td>0</td><td>0</td><td>0</td><td>0</td><td>0</td><td>0</td><td>0</td><td>0</td><td>0</td><td>0</td><td>0</td><td>0</td><td>null</td></tr></tbody></table></div>"
      ],
      "text/plain": [
       "shape: (5, 24)\n",
       "┌───────────┬────────┬───────┬────────┬───┬─────┬─────┬──────┬───────┐\n",
       "│ playerID  ┆ yearID ┆ stint ┆ teamID ┆ … ┆ SH  ┆ SF  ┆ GIDP ┆ G_old │\n",
       "│ ---       ┆ ---    ┆ ---   ┆ ---    ┆   ┆ --- ┆ --- ┆ ---  ┆ ---   │\n",
       "│ str       ┆ i64    ┆ i64   ┆ str    ┆   ┆ i64 ┆ i64 ┆ i64  ┆ i64   │\n",
       "╞═══════════╪════════╪═══════╪════════╪═══╪═════╪═════╪══════╪═══════╡\n",
       "│ aardsda01 ┆ 2004   ┆ 1     ┆ SFN    ┆ … ┆ 0   ┆ 0   ┆ 0    ┆ null  │\n",
       "│ aardsda01 ┆ 2006   ┆ 1     ┆ CHN    ┆ … ┆ 1   ┆ 0   ┆ 0    ┆ null  │\n",
       "│ aardsda01 ┆ 2007   ┆ 1     ┆ CHA    ┆ … ┆ 0   ┆ 0   ┆ 0    ┆ null  │\n",
       "│ aardsda01 ┆ 2008   ┆ 1     ┆ BOS    ┆ … ┆ 0   ┆ 0   ┆ 0    ┆ null  │\n",
       "│ aardsda01 ┆ 2009   ┆ 1     ┆ SEA    ┆ … ┆ 0   ┆ 0   ┆ 0    ┆ null  │\n",
       "└───────────┴────────┴───────┴────────┴───┴─────┴─────┴──────┴───────┘"
      ]
     },
     "execution_count": 14,
     "metadata": {},
     "output_type": "execute_result"
    }
   ],
   "source": [
    "#Batting data\n",
    "(batting:=\n",
    " pl.read_csv('./data/csvFilesLahman/Batting.csv')\n",
    ")\n",
    "batting.head()"
   ]
  },
  {
   "cell_type": "code",
   "execution_count": 24,
   "id": "c42381f8-4cce-44a0-a4ad-7df3d0eacfd4",
   "metadata": {},
   "outputs": [],
   "source": [
    "league_wide_SLG = (\n",
    "    batting\n",
    "    .filter(pl.col(\"yearID\") >= 1946)\n",
    "    .group_by([\"yearID\", \"lgID\"])\n",
    "    .agg([ pl.sum(\"H\").alias(\"total_hits\"),\n",
    "           pl.sum(\"2B\").alias(\"total_2base\"),\n",
    "           pl.sum(\"3B\").alias(\"total_3base\"),\n",
    "           pl.sum(\"HR\").alias(\"total_Hrun\"),\n",
    "           pl.sum(\"AB\").alias(\"total_Abat\")\n",
    "                              ])\n",
    "    .with_columns([\n",
    "        (\n",
    "            (\n",
    "                (pl.col(\"total_hits\") - pl.col(\"total_2base\") - pl.col(\"total_3base\") - pl.col(\"total_Hrun\"))\n",
    "                + 2*pl.col(\"total_2base\") + 3*pl.col(\"total_3base\") + 4*pl.col(\"total_Hrun\")\n",
    "            )\n",
    "            / pl.col(\"total_Abat\")\n",
    "        ), \n",
    "        pl.when(\n",
    "            (pl.col(\"lgID\") == \"AL\") & (pl.col(\"yearID\") >= 1946)\n",
    "        ).then(pl.lit(\"DH\"))\n",
    "        .when(\n",
    "            (pl.col(\"lgID\") == \"NL\") & (pl.col(\"yearID\") >= 1973)\n",
    "        ).then(pl.lit(\"DH\"))\n",
    "        .otherwise(pl.lit(\"NO DH\"))\n",
    "        .alias(\"DH Rule\")\n",
    "    ])\n",
    "    .drop([\"total_hits\", \"total_2base\", \"total_3base\", \"total_Hrun\", \"total_Abat\"])\n",
    "    \n",
    ")\n",
    "league_wide_ERA.write_csv(\"data/league_wide_SLG.csv\")\n"
   ]
  },
  {
   "cell_type": "code",
   "execution_count": 25,
   "id": "32830d24-29f0-489d-8be2-81eddc85366d",
   "metadata": {},
   "outputs": [
    {
     "data": {
      "text/html": [
       "<div><style>\n",
       ".dataframe > thead > tr,\n",
       ".dataframe > tbody > tr {\n",
       "  text-align: right;\n",
       "  white-space: pre-wrap;\n",
       "}\n",
       "</style>\n",
       "<small>shape: (5, 3)</small><table border=\"1\" class=\"dataframe\"><thead><tr><th>yearID</th><th>lgID</th><th>DH Rule</th></tr><tr><td>i64</td><td>str</td><td>str</td></tr></thead><tbody><tr><td>2005</td><td>&quot;AL&quot;</td><td>&quot;DH&quot;</td></tr><tr><td>1981</td><td>&quot;NL&quot;</td><td>&quot;DH&quot;</td></tr><tr><td>1990</td><td>&quot;AL&quot;</td><td>&quot;DH&quot;</td></tr><tr><td>2007</td><td>&quot;NL&quot;</td><td>&quot;DH&quot;</td></tr><tr><td>1971</td><td>&quot;NL&quot;</td><td>&quot;NO DH&quot;</td></tr></tbody></table></div>"
      ],
      "text/plain": [
       "shape: (5, 3)\n",
       "┌────────┬──────┬─────────┐\n",
       "│ yearID ┆ lgID ┆ DH Rule │\n",
       "│ ---    ┆ ---  ┆ ---     │\n",
       "│ i64    ┆ str  ┆ str     │\n",
       "╞════════╪══════╪═════════╡\n",
       "│ 2005   ┆ AL   ┆ DH      │\n",
       "│ 1981   ┆ NL   ┆ DH      │\n",
       "│ 1990   ┆ AL   ┆ DH      │\n",
       "│ 2007   ┆ NL   ┆ DH      │\n",
       "│ 1971   ┆ NL   ┆ NO DH   │\n",
       "└────────┴──────┴─────────┘"
      ]
     },
     "execution_count": 25,
     "metadata": {},
     "output_type": "execute_result"
    }
   ],
   "source": [
    "league_wide_SLG.head()"
   ]
  },
  {
   "cell_type": "code",
   "execution_count": null,
   "id": "ee9586a5-a377-4305-a403-7bc54af89ff0",
   "metadata": {},
   "outputs": [],
   "source": []
  }
 ],
 "metadata": {
  "kernelspec": {
   "display_name": "Python 3 (ipykernel)",
   "language": "python",
   "name": "python3"
  },
  "language_info": {
   "codemirror_mode": {
    "name": "ipython",
    "version": 3
   },
   "file_extension": ".py",
   "mimetype": "text/x-python",
   "name": "python",
   "nbconvert_exporter": "python",
   "pygments_lexer": "ipython3",
   "version": "3.13.5"
  }
 },
 "nbformat": 4,
 "nbformat_minor": 5
}
